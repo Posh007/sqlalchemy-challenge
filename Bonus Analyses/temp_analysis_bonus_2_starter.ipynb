{
 "cells": [
  {
   "cell_type": "code",
   "execution_count": null,
   "metadata": {},
   "outputs": [],
   "source": [
    "%matplotlib inline\n",
    "from matplotlib import style\n",
    "style.use('fivethirtyeight')\n",
    "import matplotlib.pyplot as plt\n",
    "import json"
   ]
  },
  {
   "cell_type": "code",
   "execution_count": null,
   "metadata": {},
   "outputs": [],
   "source": [
    "import numpy as np\n",
    "import pandas as pd\n",
    "import datetime as dt"
   ]
  },
  {
   "cell_type": "markdown",
   "metadata": {},
   "source": [
    "## Reflect Tables into SQLALchemy ORM"
   ]
  },
  {
   "cell_type": "code",
   "execution_count": null,
   "metadata": {},
   "outputs": [],
   "source": [
    "# Python SQL toolkit and Object Relational Mapper\n",
    "import sqlalchemy\n",
    "from sqlalchemy.ext.automap import automap_base\n",
    "from sqlalchemy.orm import Session\n",
    "from sqlalchemy import create_engine, func"
   ]
  },
  {
   "cell_type": "code",
   "execution_count": null,
   "metadata": {},
   "outputs": [],
   "source": [
    "# create engine to hawaii.sqlite\n",
    "engine = create_engine(\"sqlite:///hawaii.sqlite\")"
   ]
  },
  {
   "cell_type": "code",
   "execution_count": null,
   "metadata": {},
   "outputs": [],
   "source": [
    "# reflect an existing database into a new model\n",
    "Base = automap_base()\n",
    "\n",
    "# reflect the tables\n",
    "Base.prepare(engine, reflect=True)"
   ]
  },
  {
   "cell_type": "code",
   "execution_count": null,
   "metadata": {},
   "outputs": [],
   "source": [
    "# View all of the classes that automap found\n",
    "Base.classes.keys()"
   ]
  },
  {
   "cell_type": "code",
   "execution_count": null,
   "metadata": {},
   "outputs": [],
   "source": [
    "# Save references to each table\n",
    "Measurement = Base.classes.measurement\n",
    "\n",
    "Station = Base.classes.station"
   ]
  },
  {
   "cell_type": "code",
   "execution_count": null,
   "metadata": {},
   "outputs": [],
   "source": [
    "# Create our session (link) from Python to the DB\n",
    "session = Session(engine)"
   ]
  },
  {
   "cell_type": "markdown",
   "metadata": {},
   "source": [
    "### Bonus Challenge Assignment: Temperature Analysis II"
   ]
  },
  {
   "cell_type": "code",
   "execution_count": null,
   "metadata": {},
   "outputs": [],
   "source": [
    "# This function called `calc_temps` will accept start date and end date in the format '%Y-%m-%d' \n",
    "# and return the minimum, maximum, and average temperatures for that range of dates\n",
    "def calc_temps(start_date, end_date):\n",
    "    \"\"\"TMIN, TAVG, and TMAX for a list of dates.\n",
    "    \n",
    "    Args:\n",
    "        start_date (string): A date string in the format %Y-%m-%d\n",
    "        end_date (string): A date string in the format %Y-%m-%d\n",
    "        \n",
    "    Returns:\n",
    "        TMIN, TAVE, and TMAX\n",
    "    \"\"\"\n",
    "    \n",
    "    return session.query(func.min(Measurement.tobs), func.avg(Measurement.tobs), func.max(Measurement.tobs)).\\\n",
    "        filter(Measurement.date >= start_date).filter(Measurement.date <= end_date).all()\n",
    "\n",
    "# For example\n",
    "print(calc_temps('2012-02-28', '2012-03-05'))"
   ]
  },
  {
   "cell_type": "code",
   "execution_count": null,
   "metadata": {},
   "outputs": [],
   "source": [
    "# The previous year's data \n",
    "trip_start_date = '2016-08-23'\n",
    "trip_end_date = '2017-08-23'\n",
    "\n",
    "# Use your previous function `calc_temps` to calculate the tmin, tavg, and tmax \n",
    "trip_results = calc_temps(trip_start_date, trip_end_date)\n",
    "\n",
    "trip_tmin = trip_results[0][0]\n",
    "trip_tmax = trip_results[0][2]\n",
    "trip_tavg = trip_results[0][1]\n",
    "\n",
    "trip_summary = {'TMIN': trip_tmin,\n",
    "                'TMAX': trip_tmax,\n",
    "                'TAVG': round(trip_tavg,2)}\n",
    "\n",
    "print(json.dumps(trip_summary, indent=4))"
   ]
  },
  {
   "cell_type": "code",
   "execution_count": null,
   "metadata": {},
   "outputs": [],
   "source": [
    "# Plot the results from your previous query as a bar chart.\n",
    "fig, ax = plt.subplots(figsize=(7, 5))\n",
    "\n",
    "# Use the average temperature for the y value\n",
    "y_value = trip_results[0][1]\n",
    "\n",
    "# The peak-to-peak (tmax-tmin) value as the y error bar (yerr)\n",
    "yerr = trip_tmax - trip_tmin\n",
    "\n",
    "#YERR = (\"TMAX\" - \"TMIN\")\n",
    "\n",
    "# Plot the result From previous query as a bar chart.\n",
    "x_axis = np.arange(len(trip_results[0]))\n",
    "plt.xticks([])\n",
    "plt.bar(x_axis[0], y_value, yerr=yerr, alpha=0.75, color='coral', width=0.5)\n",
    "plt.ylabel('Temperature (F)', fontsize=13)\n",
    "plt.xlim(-1, 1)\n",
    "plt.ylim(0,110)\n",
    "\n",
    "# Use \"Trip Avg Temp\" as your Title\n",
    "plt.title('Trip Avg Temp', fontsize=14)\n",
    "\n",
    "# Save the figure and show\n",
    "plt.tight_layout()\n",
    "plt.savefig('Images/bar_plot_with_error_bars.png')\n",
    "plt.show()\n"
   ]
  },
  {
   "cell_type": "markdown",
   "metadata": {},
   "source": [
    "### Daily Rainfall Average"
   ]
  },
  {
   "cell_type": "code",
   "execution_count": null,
   "metadata": {},
   "outputs": [],
   "source": [
    "# Calculate the total amount of rainfall per weather station for your trip dates using the previous year's \n",
    "# matching dates.\n",
    "# Sort this in descending order by precipitation amount and list the station, name, latitude, longitude, and elevation\n",
    "# Total amount of rainfall per weather station last year matching trip date, order by precipitation amount\n",
    "\n",
    "rainfall_per_station = session.query(Measurement.station, Station.name,\n",
    "                        Station.latitude, Station.longitude, \n",
    "                        Station.elevation, func.sum(Measurement.prcp))\\\n",
    "                        .filter(Measurement.date <= trip_end_date)\\\n",
    "                        .filter(Measurement.date >= trip_start_date)\\\n",
    "                        .group_by(Measurement.station)\\\n",
    "                        .order_by(func.sum(Measurement.prcp).desc())\\\n",
    "                        .filter(Measurement.station == Station.station).all()\n",
    "\n",
    "# Store the result into data frame\n",
    "rainfall_per_station_df = pd.DataFrame(rainfall_per_station, columns=['Station ID', \n",
    "                                                'Name', \n",
    "                                                'Latitude', \n",
    "                                                'Longitude', \n",
    "                                                'Elevation', \n",
    "                                                'Total Rainfall'])\n",
    "\n",
    "# Display data\n",
    "rainfall_per_station_df"
   ]
  },
  {
   "cell_type": "code",
   "execution_count": null,
   "metadata": {},
   "outputs": [],
   "source": [
    "# Use this function to calculate the daily normals \n",
    "# (i.e. the averages for tmin, tmax, and tavg for all historic data matching a specific month and day)\n",
    "\n",
    "def daily_normals(date):\n",
    "    \"\"\"Daily Normals.\n",
    "    \n",
    "    Args:\n",
    "        date (str): A date string in the format '%m-%d'\n",
    "        \n",
    "    Returns:\n",
    "        A list of tuples containing the daily normals, tmin, tavg, and tmax\n",
    "    \n",
    "    \"\"\"\n",
    "    \n",
    "    sel = [func.min(Measurement.tobs), func.avg(Measurement.tobs), func.max(Measurement.tobs)]\n",
    "    return session.query(*sel).filter(func.strftime(\"%m-%d\", Measurement.date) == date).all()\n",
    "\n",
    "# For example\n",
    "daily_normals(\"01-01\")"
   ]
  },
  {
   "cell_type": "code",
   "execution_count": null,
   "metadata": {},
   "outputs": [],
   "source": [
    "# calculate the daily normals for your trip\n",
    "# push each tuple of calculations into a list called `normals`\n",
    "normals=[]\n",
    "# Set the start and end date of the trip\n",
    "start_date = '2017-08-01'\n",
    "end_date = '2017-08-07'\n",
    "\n",
    "# Use the start and end date to create a range of dates\n",
    "trip_dates=pd.date_range(start=start_date,end=end_date)\n",
    "\n",
    "# Strip off the year and save a list of strings in the format %m-%d\n",
    "date_list=[str(dt.datetime.strftime(date,'%m-%d')) for date in trip_dates]\n",
    "\n",
    "# Use the `daily_normals` function to calculate the normals for each date string \n",
    "# and append the results to a list called `normals`.\n",
    "for date in date_list:\n",
    "    normal=daily_normals(date)\n",
    "    normals.append(list(np.ravel(normal)))\n",
    "normals"
   ]
  },
  {
   "cell_type": "code",
   "execution_count": null,
   "metadata": {},
   "outputs": [],
   "source": [
    "# Load the previous query results into a Pandas DataFrame and add the `trip_dates` range as the `date` index\n",
    "trip_df=pd.DataFrame(normals, index=trip_dates, columns=['tmin','tavg','tmax'])\n",
    "trip_df"
   ]
  },
  {
   "cell_type": "code",
   "execution_count": null,
   "metadata": {},
   "outputs": [],
   "source": [
    "# Plot the daily normals as an area plot with `stacked=False`\n",
    "trip_df_plot = trip_df.plot(kind='area', stacked=False, rot=45, use_index=False, alpha=0.3, figsize=(7,5))\n",
    "positions = list(np.arange(len(trip_dates)))\n",
    "labels = trip_dates.strftime(\"%Y-%m-%d\")\n",
    "plt.xticks(positions, labels)\n",
    "plt.xlabel('Date', fontsize=13)\n",
    "plt.ylabel('Temperature (F)', fontsize=13)\n",
    "plt.title('Daily Normals', fontweight='bold', fontsize=14)\n",
    "\n",
    "# Save the figure and show\n",
    "plt.tight_layout()\n",
    "plt.savefig('Images/stacked=false_normals_plot.png')\n",
    "plt.show()"
   ]
  },
  {
   "cell_type": "markdown",
   "metadata": {},
   "source": [
    "### Close Session"
   ]
  },
  {
   "cell_type": "code",
   "execution_count": null,
   "metadata": {},
   "outputs": [],
   "source": [
    "# Close Session\n",
    "session.close()"
   ]
  }
 ],
 "metadata": {
  "kernelspec": {
   "display_name": "Python 3",
   "language": "python",
   "name": "python3"
  },
  "language_info": {
   "codemirror_mode": {
    "name": "ipython",
    "version": 3
   },
   "file_extension": ".py",
   "mimetype": "text/x-python",
   "name": "python",
   "nbconvert_exporter": "python",
   "pygments_lexer": "ipython3",
   "version": "3.7.9"
  }
 },
 "nbformat": 4,
 "nbformat_minor": 4
}
